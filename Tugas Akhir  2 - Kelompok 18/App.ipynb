{
 "cells": [
  {
   "cell_type": "code",
   "execution_count": 1,
   "metadata": {},
   "outputs": [
    {
     "name": "stdout",
     "output_type": "stream",
     "text": [
      " * Serving Flask app \"__main__\" (lazy loading)\n",
      " * Environment: production\n",
      "   WARNING: This is a development server. Do not use it in a production deployment.\n",
      "   Use a production WSGI server instead.\n",
      " * Debug mode: off\n"
     ]
    },
    {
     "name": "stderr",
     "output_type": "stream",
     "text": [
      " * Running on http://127.0.0.1:5000/ (Press CTRL+C to quit)\n",
      "127.0.0.1 - - [02/Jul/2022 16:40:52] \"\u001b[37mGET / HTTP/1.1\u001b[0m\" 200 -\n",
      "127.0.0.1 - - [02/Jul/2022 16:40:52] \"\u001b[33mGET /favicon.ico HTTP/1.1\u001b[0m\" 404 -\n",
      "127.0.0.1 - - [02/Jul/2022 16:41:01] \"\u001b[37mPOST /result HTTP/1.1\u001b[0m\" 200 -\n"
     ]
    }
   ],
   "source": [
    "import os\n",
    "import numpy as np\n",
    "import flask\n",
    "import pickle\n",
    "from flask import Flask, redirect, url_for, request, render_template\n",
    "\n",
    "\n",
    "# creating instance of the class\n",
    "app = Flask(__name__, template_folder='templates')\n",
    "\n",
    "# to tell flask what url should trigger the function index()\n",
    "@app.route('/')\n",
    "@app.route('/index')\n",
    "def index():\n",
    "    return flask.render_template('index.html')\n",
    "    \n",
    "    \n",
    "# prediction function\n",
    "def ValuePredictor(to_predict_list):\n",
    "    to_predict = np.array(to_predict_list).reshape(1,12)\n",
    "    \n",
    "    mx = np.array([2717.0, 31.0, 35525.0, 96.0, 500.0, 200.0, 2500.0, 38000.0, 304.0, 256000.0, 400256.0, 38000.0])        \n",
    "    mn = np.array([0.0, 0.0, -2099.0, 0.0, 0.0, 0.0, 0.0, 0.0, 0.0, 0.0, -192.0, 0.0]) \n",
    "    data_predict = (to_predict - mn) / (mx - mn)\n",
    "        \n",
    "    loaded_model = pickle.load(open(\"model.pkl\",\"rb\")) # load the model\n",
    "    result = loaded_model.predict(data_predict) # predict the values using loded model\n",
    "    return result[0]\n",
    "\n",
    "@app.route('/result', methods = ['POST'])\n",
    "def result():\n",
    "    if request.method == 'POST':\n",
    "        to_predict_list = request.form.values()\n",
    "        to_predict_list = list(map(float, to_predict_list))\n",
    "        Sales = to_predict_list[0]\n",
    "        Stock_Out = to_predict_list[1]\n",
    "        Stock = to_predict_list[2]\n",
    "        Avg_Sales_Hari = to_predict_list[3]\n",
    "        Min_Disp = to_predict_list[4]\n",
    "        Minor = to_predict_list[5]\n",
    "        MPKM_Toko = to_predict_list[6]\n",
    "        PKM_Toko = to_predict_list[7]\n",
    "        NPlus = to_predict_list[8]\n",
    "        DSI_PKM = to_predict_list[9]\n",
    "        DSI_OH = to_predict_list[10]\n",
    "        PKM_Exist = to_predict_list[11]\n",
    "        \n",
    "        result = ValuePredictor(to_predict_list)\n",
    "        \n",
    "        if float(result) == 0:\n",
    "            prediction = 'Barang Termasuk kedalam Kategori \"Kurang Laris\"'\n",
    "        elif float(result) == 1:\n",
    "            prediction = 'Barang Termasuk kedalam Kategori \"Laris\"'\n",
    "        elif float(result) == 2:\n",
    "            prediction = 'Barang Termasuk kedalam Kategori \"Rata-rata\"'\n",
    "            \n",
    "        return render_template(\"result.html\",prediction=prediction, \n",
    "                               Sales = Sales, \n",
    "                               Stock_Out = Stock_Out, \n",
    "                               Stock = Stock, \n",
    "                               Avg_Sales_Hari = Avg_Sales_Hari, \n",
    "                               Min_Disp = Min_Disp, \n",
    "                               Minor = Minor, \n",
    "                               MPKM_Toko = MPKM_Toko, \n",
    "                               PKM_Toko = PKM_Toko, \n",
    "                               NPlus = NPlus, \n",
    "                               DSI_PKM = DSI_PKM,\n",
    "                               DSI_OH = DSI_OH,\n",
    "                               PKM_Exist = PKM_Exist)\n",
    "\n",
    "if __name__ == \"__main__\":\n",
    "    app.run(debug=False) # use debug = False for jupyter notebook"
   ]
  },
  {
   "cell_type": "code",
   "execution_count": null,
   "metadata": {},
   "outputs": [],
   "source": []
  }
 ],
 "metadata": {
  "kernelspec": {
   "display_name": "Python 3",
   "language": "python",
   "name": "python3"
  },
  "language_info": {
   "codemirror_mode": {
    "name": "ipython",
    "version": 3
   },
   "file_extension": ".py",
   "mimetype": "text/x-python",
   "name": "python",
   "nbconvert_exporter": "python",
   "pygments_lexer": "ipython3",
   "version": "3.8.5"
  }
 },
 "nbformat": 4,
 "nbformat_minor": 4
}
